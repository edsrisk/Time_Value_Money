{
 "cells": [
  {
   "cell_type": "markdown",
   "metadata": {},
   "source": [
    "# Time Value of Money"
   ]
  },
  {
   "cell_type": "markdown",
   "metadata": {},
   "source": [
    "### \"Future Value Problem: Solving for FV\n",
    "##### How much would $5.00 grow at 6% after 20 years"
   ]
  },
  {
   "cell_type": "code",
   "execution_count": 1,
   "metadata": {},
   "outputs": [
    {
     "name": "stdin",
     "output_type": "stream",
     "text": [
      "Present Value: $ 5\n",
      "Annual Interest Rate (%) :  6\n",
      "Number of Years: 20\n"
     ]
    },
    {
     "name": "stdout",
     "output_type": "stream",
     "text": [
      "The investment's future value is $16.04\n",
      "-------------- End of Problem-----------------------\n"
     ]
    }
   ],
   "source": [
    "present_value = float(input('Present Value: $'))\n",
    "annual_interest_rate = float(input('Annual Interest Rate (%) : '))\n",
    "years = int(input('Number of Years:'))\n",
    "\n",
    "def future_value(present_value, annual_interest_rate, years):\n",
    "    result = present_value * ((1 + annual_interest_rate / 100) ** years)\n",
    "    print('The investment\\'s future value is $', format(result, '.2f'), sep='')\n",
    "    print(\"-------------- End of Problem-----------------------\")\n",
    "\n",
    "future_value(present_value, annual_interest_rate, years)"
   ]
  },
  {
   "cell_type": "markdown",
   "metadata": {},
   "source": [
    "### Perpetuity: Solving for the Present Value of a Perpetuity\n",
    "##### What is the present value of a perpetuity that pays $100,000,000 per year, beginning on eyear from now with an internal rate of 10%"
   ]
  },
  {
   "cell_type": "code",
   "execution_count": 2,
   "metadata": {},
   "outputs": [
    {
     "name": "stdin",
     "output_type": "stream",
     "text": [
      "Annual Payments: $ 100000000\n",
      "Perpetuity Interest Rate (%) :  10\n"
     ]
    },
    {
     "name": "stdout",
     "output_type": "stream",
     "text": [
      "The Perpetuity's present value is $1000000000.00\n",
      "-------------- End of Problem-----------------------\n"
     ]
    }
   ],
   "source": [
    "annual_payments = float(input('Annual Payments: $'))\n",
    "perpetuity_interest_rate = float(input('Perpetuity Interest Rate (%) : '))\n",
    "\n",
    "def perpetuity_pv(annual_payments, perpetuity_interest_rate):\n",
    "    perpetuity_result = annual_payments / (perpetuity_interest_rate / 100)\n",
    "    print('The Perpetuity\\'s present value is $', format(perpetuity_result, '.2f'), sep='')\n",
    "    print(\"-------------- End of Problem-----------------------\")\n",
    "\n",
    "perpetuity_pv(annual_payments, perpetuity_interest_rate)"
   ]
  },
  {
   "cell_type": "markdown",
   "metadata": {},
   "source": [
    "### Bond Valuation: Solving for the Present Value or current price of a bond\n",
    "##### A borrower agrees to repay an investor $2,000 in five years. Assuming a 6% interest rate, what is the value of the bond today?"
   ]
  },
  {
   "cell_type": "code",
   "execution_count": 3,
   "metadata": {},
   "outputs": [
    {
     "name": "stdin",
     "output_type": "stream",
     "text": [
      "Future Value: $ 2000\n",
      "Annual Interest Rate (%) :  6\n",
      "Number of Years: 5\n"
     ]
    },
    {
     "name": "stdout",
     "output_type": "stream",
     "text": [
      "The investment's present value is $1494.52\n",
      "-------------- End of Problem-----------------------\n"
     ]
    }
   ],
   "source": [
    "future_value = float(input('Future Value: $'))\n",
    "annual_interest_rate = float(input('Annual Interest Rate (%) : '))\n",
    "years = int(input('Number of Years:'))\n",
    "\n",
    "def present_value(future_value, annual_interest_rate, years):\n",
    "    pv_result = future_value / ((1 + annual_interest_rate / 100) ** years)\n",
    "    print('The investment\\'s present value is $', format(pv_result, '.2f'), sep='')\n",
    "    print(\"-------------- End of Problem-----------------------\")\n",
    "\n",
    "present_value(future_value, annual_interest_rate, years)"
   ]
  },
  {
   "cell_type": "markdown",
   "metadata": {},
   "source": [
    "### Interest Rate: Obtaining the interest rate using PV, FV and # of years\n",
    "##### The present value of an investment today is 585.43 The investment matures in 10 years and it was agreed the investor would be paid 1,000. What is the \n",
    "##### interest rate the investor is expected to earn?"
   ]
  },
  {
   "cell_type": "code",
   "execution_count": 5,
   "metadata": {},
   "outputs": [
    {
     "name": "stdin",
     "output_type": "stream",
     "text": [
      "Future Value: $ 1000\n",
      "Present Value: $ 585.43\n",
      "Number of Years: 10\n"
     ]
    },
    {
     "name": "stdout",
     "output_type": "stream",
     "text": [
      "The investor's earned interest rate is (%)5.50\n",
      "-------------- End of Problem-----------------------\n"
     ]
    }
   ],
   "source": [
    "future_value = float(input('Future Value: $'))\n",
    "present_value = float(input('Present Value: $'))\n",
    "years = int(input('Number of Years:'))\n",
    "\n",
    "def interest_rate(future_value, present_value, years):\n",
    "    final_result = (((future_value / present_value)**(1/years)) - 1) * 100\n",
    "    print('The investor\\'s earned interest rate is (%)', format(final_result, '.2f'), sep='')\n",
    "    print(\"-------------- End of Problem-----------------------\")\n",
    "\n",
    "interest_rate(future_value, present_value, years)"
   ]
  },
  {
   "cell_type": "markdown",
   "metadata": {},
   "source": [
    "### Future Value: Solving for FV using Even Payments\n",
    "##### You plan a purchasing a home in 5 years. Assuming you save 2,500 each year for a down payment, you plan to earn 4% interest \n",
    "##### and you will deposit the funds at the end of each year. How much will you have after 5 years?"
   ]
  },
  {
   "cell_type": "code",
   "execution_count": 5,
   "metadata": {},
   "outputs": [
    {
     "name": "stdin",
     "output_type": "stream",
     "text": [
      "Enter Payments: $ 2500\n",
      "Enter Number of Payments:  5\n",
      "Annual Interest Rate (%) :  4\n"
     ]
    },
    {
     "name": "stdout",
     "output_type": "stream",
     "text": [
      "---------------------------------------------------------------\n",
      "Year 1 Incrememtal (Deposit + Accrued Interest): 2924.65\n",
      "Year 2 Incrememtal (Deposit + Accrued Interest): 2812.16\n",
      "Year 3 Incrememtal (Deposit + Accrued Interest): 2704.00\n",
      "Year 4 Incrememtal (Deposit + Accrued Interest): 2600.00\n",
      "Year 5 Incrememtal (Deposit + Accrued Interest): 2500.00\n",
      "------------------------------------------------------------\n",
      "Total Down Payment: 13540.81\n",
      "Sum of Deposits (including accrued interest): 13540.81\n",
      "----End of Problem------------------------------------------\n"
     ]
    }
   ],
   "source": [
    "even_payment = float(input('Enter Payments: $'))\n",
    "num_of_pmts = int(input('Enter Number of Payments: '))\n",
    "interest_rate = float(input('Annual Interest Rate (%) : '))\n",
    "print('---------------------------------------------------------------')\n",
    "\n",
    "def down_payment(even_payment, num_of_pmts, interest_rate):\n",
    "    fv_array = []\n",
    "    total_balance = 0\n",
    "    single_pmt_fv = 0\n",
    "    for single_payment in range(1, num_of_pmts + 1):\n",
    "        single_pmt_fv = even_payment * (1 + interest_rate/100)**(num_of_pmts - 1)\n",
    "        fv_array.append(single_pmt_fv)\n",
    "        num_of_pmts -= 1\n",
    "    down_payment = fv_array[0] + fv_array[1] + fv_array[2] + fv_array[3] + fv_array[4]\n",
    "    sum_of_array = sum(fv_array)\n",
    "    print('Year 1 Incrememtal (Deposit + Accrued Interest):', format(fv_array[0], '.2f'))\n",
    "    print('Year 2 Incrememtal (Deposit + Accrued Interest):', format(fv_array[1], '.2f'))\n",
    "    print('Year 3 Incrememtal (Deposit + Accrued Interest):', format(fv_array[2], '.2f'))\n",
    "    print('Year 4 Incrememtal (Deposit + Accrued Interest):', format(fv_array[3], '.2f'))\n",
    "    print('Year 5 Incrememtal (Deposit + Accrued Interest):', format(fv_array[4], '.2f'))\n",
    "    print('------------------------------------------------------------')\n",
    "    print('Total Down Payment:', format(down_payment, '.2f'))\n",
    "    print('Sum of Deposits (including accrued interest):', format(sum_of_array, '.2f'))   \n",
    "    print('----End of Problem------------------------------------------')\n",
    "    return\n",
    "down_payment(even_payment, num_of_pmts, interest_rate)"
   ]
  },
  {
   "cell_type": "markdown",
   "metadata": {},
   "source": [
    "### Withdrawals: Using the Present Value of Annuity Formula to solve for Payment, where Future Value = 0\n",
    "##### You inherit $100,000 and invest the inheritance at 7% each year. What would be the withdrawal at the end of the next 10 years and end with a zero balance?"
   ]
  },
  {
   "cell_type": "code",
   "execution_count": 9,
   "metadata": {},
   "outputs": [
    {
     "name": "stdin",
     "output_type": "stream",
     "text": [
      "Enter the Present Value of the Investment: $ 100000\n",
      "Enter Number of Years:  10\n",
      "Annual Interest Rate (%) :  7\n"
     ]
    },
    {
     "name": "stdout",
     "output_type": "stream",
     "text": [
      "-----------------------------------------------------------\n",
      "Withdrawals:  14237.75\n",
      "----End of Problem-------------------------------------\n"
     ]
    }
   ],
   "source": [
    "investment_pv = float(input('Enter the Present Value of the Investment: $'))\n",
    "num_years = float(input('Enter Number of Years: '))\n",
    "interest_rate = float(input('Annual Interest Rate (%) : '))\n",
    "print('-----------------------------------------------------------')\n",
    "\n",
    "def withdrawal(investment_pv, num_years, interest_rate):\n",
    "    int_rate = interest_rate / 100\n",
    "    # The below formulas break down the solution into little parts of the equation\n",
    "    wd_den1 = (1 + int_rate)**num_years\n",
    "    wd_den2 = int_rate * wd_den1\n",
    "    wd_den3 = 1 / wd_den2\n",
    "    denominator = (1 / int_rate) - wd_den3\n",
    "    wd = investment_pv / denominator\n",
    "    print('Withdrawals: ', format(wd, '.2f'))\n",
    "    print('----End of Problem-------------------------------------')\n",
    "    return\n",
    "\n",
    "withdrawal(investment_pv, num_years, interest_rate)"
   ]
  },
  {
   "cell_type": "markdown",
   "metadata": {},
   "source": [
    "### Present Value\n",
    "##### What is the present value of a security that will pay $5,000 in 20 years if securities of equal risk pay 7% annually?"
   ]
  },
  {
   "cell_type": "code",
   "execution_count": 10,
   "metadata": {},
   "outputs": [
    {
     "name": "stdin",
     "output_type": "stream",
     "text": [
      "Future Value: $ 5000\n",
      "Annual Interest Rate (%) :  7\n",
      "Number of Years: 20\n"
     ]
    },
    {
     "name": "stdout",
     "output_type": "stream",
     "text": [
      "The investment's present value is $1292.10\n",
      "-------------- End of Problem-----------------------\n"
     ]
    }
   ],
   "source": [
    "future_value = float(input('Future Value: $'))\n",
    "annual_interest_rate = float(input('Annual Interest Rate (%) : '))\n",
    "years = int(input('Number of Years:'))\n",
    "\n",
    "def present_value(future_value, annual_interest_rate, years):\n",
    "    pv_result = future_value / ((1 + annual_interest_rate / 100) ** years)\n",
    "    print('The investment\\'s present value is $', format(pv_result, '.2f'), sep='')\n",
    "    print(\"-------------- End of Problem-----------------------\")\n",
    "\n",
    "present_value(future_value, annual_interest_rate, years)"
   ]
  },
  {
   "cell_type": "markdown",
   "metadata": {},
   "source": [
    "### Finding Number of Periods or Years using Present Value Multiplier\n",
    "##### If you deposit money today in an account that pays 6.5% annual interest, how long will it take to double your money?"
   ]
  },
  {
   "cell_type": "code",
   "execution_count": 14,
   "metadata": {},
   "outputs": [
    {
     "name": "stdin",
     "output_type": "stream",
     "text": [
      "Present Value: $ 1000\n",
      "Annual Interest Rate (%) :  6.5\n",
      "Enter PV Multiplier for targeted Future Value (2 - double PV, 3 - tripple PV, 4 - quadruple PV:  2\n"
     ]
    },
    {
     "name": "stdout",
     "output_type": "stream",
     "text": [
      "-----------------------------------------------------------------------------\n",
      "Present Value - the amount you provided:  1000.0\n",
      "Future Value - double the amount you provided:  2000.0\n",
      "Future Value is Present Value at 2 x multiplier is : 2000.0\n",
      "Number of years: 11.01\n",
      "------End of Problem------\n"
     ]
    }
   ],
   "source": [
    "present_value = float(input('Present Value: $'))\n",
    "interest = float(input('Annual Interest Rate (%) : '))\n",
    "multiplier = int(input('Enter PV Multiplier for targeted Future Value (2 - double PV, 3 - tripple PV, 4 - quadruple PV: '))\n",
    "print('-----------------------------------------------------------------------------')\n",
    "\n",
    "import numpy as  np\n",
    "def number_of_years(present_value, interest, multiplier):\n",
    "    percent_int = interest / 100\n",
    "    future_value = present_value * multiplier\n",
    "    years = (np.log(future_value / present_value)) / (np.log(1 + percent_int))\n",
    "    print('Present Value - the amount you provided: ', present_value)\n",
    "    print('Future Value - double the amount you provided: ', future_value)\n",
    "    print('Future Value is Present Value at', multiplier,'x multiplier', 'is :', future_value)\n",
    "    print('Number of years: ', format(years, '.2f'), sep='')\n",
    "    print('------End of Problem------')\n",
    "    return\n",
    "\n",
    "number_of_years(present_value, interest, multiplier)"
   ]
  },
  {
   "cell_type": "markdown",
   "metadata": {},
   "source": [
    "### Future Value of Ordinary Annuity and Annuity Due\n",
    "##### What is the future value of a 7%, 5-year ordinary annuity that pays $300 each year? If this were an annuity due, what would its future value be?"
   ]
  },
  {
   "cell_type": "code",
   "execution_count": 28,
   "metadata": {},
   "outputs": [
    {
     "name": "stdin",
     "output_type": "stream",
     "text": [
      "Annuity Payments: $ 300\n",
      "Annual Interest Rate (%) :  7\n",
      "Number of Years :  5\n",
      "Type of Annuity: 1 - Ordinary Annuity, 2 - Annuity Due:  1\n"
     ]
    },
    {
     "name": "stdout",
     "output_type": "stream",
     "text": [
      "-----------------------------------------------------------------------\n",
      "Type: Ordinary Annuity\n",
      "------------------------------------\n",
      "Future Value of Ordinary Annuity: 1725.22\n",
      "---------------End of Problem-----------------------\n"
     ]
    }
   ],
   "source": [
    "annuity_payments = float(input('Annuity Payments: $'))\n",
    "interest = float(input('Annual Interest Rate (%) : '))\n",
    "years = float(input('Number of Years : '))\n",
    "annuity_type = int(input('Type of Annuity: 1 - Ordinary Annuity, 2 - Annuity Due: '))\n",
    "print('-----------------------------------------------------------------------')\n",
    "\n",
    "def future_value_annuity(payments, interest, years, annuity_type):\n",
    "    percent_int = interest / 100\n",
    "    fv_annuity_ordinary = payments * ((((1 + percent_int)**years) - 1) / percent_int)\n",
    "    fv_annuity_due = fv_annuity_ordinary * (1 + percent_int)\n",
    "    \n",
    "    if annuity_type == 1:\n",
    "        print('Type: Ordinary Annuity')\n",
    "        print('------------------------------------')\n",
    "        print('Future Value of Ordinary Annuity: ', format(fv_annuity_ordinary, '.2f'), sep='')\n",
    "    elif annuity_type == 2:\n",
    "        print('Type: Annuity Due')\n",
    "        print('------------------------------------')\n",
    "        print('Future Value of Annuity Due is: ', format(fv_annuity_due, '.2f'), sep='')\n",
    "    else:\n",
    "        print(\"You can only select '1 for Ordinary Annuiry' or '2 for Annuity Due'\")\n",
    "        print('Please try again!')\n",
    "    print('---------------End of Problem-----------------------')\n",
    "    return\n",
    "\n",
    "future_value_annuity(annuity_payments, interest, years, annuity_type)"
   ]
  },
  {
   "cell_type": "markdown",
   "metadata": {},
   "source": [
    "### Monthly Loan Payment Amount and Effective or Equivalent Annual Rate - EAR or EFF%\n",
    "##### You want to buy a car, and a local bank will lend you $20,000. The loan would befully amortized over 5 years (60 months), \n",
    "##### and the nominal interest rate would be 12% with interest paid monthly. What is the monthly loan payment? What is the loan’s EFF%?"
   ]
  },
  {
   "cell_type": "code",
   "execution_count": 55,
   "metadata": {},
   "outputs": [
    {
     "name": "stdin",
     "output_type": "stream",
     "text": [
      "Loan Amount: $ 20000\n",
      "Nominal Interest Rate (%):  12\n",
      "Number of years:  5\n",
      "Frequency per year: '1 - for Yearly', '2 - for Semi-Annually', '4 - for Quarterly', '12 - for Monthly' 4\n"
     ]
    },
    {
     "name": "stdout",
     "output_type": "stream",
     "text": [
      "-------------------------------------------------------------\n",
      "Frequency: Quarterly\n",
      "Effective or Equivalent Annual Rate (%): 12.5509\n",
      "Monthly Loan Payment: 1344.31\n",
      "-----End of Problem-----\n"
     ]
    },
    {
     "name": "stderr",
     "output_type": "stream",
     "text": [
      "C:\\Users\\esuba\\anaconda3\\lib\\site-packages\\ipykernel_launcher.py:27: DeprecationWarning: numpy.pmt is deprecated and will be removed from NumPy 1.20. Use numpy_financial.pmt instead (https://pypi.org/project/numpy-financial/).\n"
     ]
    }
   ],
   "source": [
    "import numpy as np\n",
    "\n",
    "loan_amount = float(input('Loan Amount: $'))\n",
    "nominal_interest = float(input('Nominal Interest Rate (%): '))\n",
    "years = int(input('Number of years: '))\n",
    "frequency = int(input(\"Frequency per year: '1 - for Yearly', '2 - for Semi-Annually', '4 - for Quarterly', '12 - for Monthly'\"))\n",
    "\n",
    "print('-------------------------------------------------------------')\n",
    "\n",
    "def ear_eff(loan_amount, nominal_interest, years, frequency):\n",
    "    nom_pct_interest = nominal_interest / 100\n",
    "    periodic_int = nom_pct_interest / frequency\n",
    "    periods = years * frequency   \n",
    "    if frequency == 1:\n",
    "        print('Frequency: Annually')\n",
    "        eff = ((1 + periodic_int)**frequency) - 1\n",
    "        loan_payments = np.pmt(rate = periodic_int, nper = periods, pv = -loan_amount)\n",
    "    elif frequency == 2:\n",
    "        print('Frequency: Semi-Annually')\n",
    "        eff = ((1 + periodic_int)**frequency) - 1\n",
    "        loan_payments = np.pmt(rate = periodic_int, nper = periods, pv = -loan_amount)\n",
    "    elif frequency == 4:\n",
    "        print('Frequency: Quarterly')\n",
    "        eff = ((1 + periodic_int)**frequency) - 1\n",
    "        loan_payments = np.pmt(rate = periodic_int, nper = periods, pv = -loan_amount)\n",
    "    elif frequency == 12:\n",
    "        print('Frequency: Monthly')\n",
    "        eff = ((1 + periodic_int)**frequency) - 1\n",
    "        loan_payments = np.pmt(rate = periodic_int, nper = periods, pv = -loan_amount)\n",
    "    else:\n",
    "        print(\"You can only select: 1 - Annually, 2 - Semi-Annually, 4 - Quarterly, or 12 - Monthly\")\n",
    "        print('Please try again!')\n",
    "    print('Effective or Equivalent Annual Rate (%): ', format(eff * 100, '.4f'), sep='')\n",
    "    print('Monthly Loan Payment: ', format(loan_payments, '.2f'), sep='')\n",
    "    print('-----End of Problem-----')\n",
    "    return\n",
    "ear_eff(loan_amount, nominal_interest, years, frequency)"
   ]
  },
  {
   "cell_type": "markdown",
   "metadata": {},
   "source": [
    "### Time Value of Money (Present Value and Future Value) with Compounding Periods\n",
    "##### a. An initial 500 compounded for 10 years at 6%\n",
    "##### b. An initial 500 compounded for 10 years at 12%\n",
    "##### c. The present value of 500 due in 10 years at a 6% discount rate\n",
    "##### d. The present value of 500 due in 10 years at a 1"
   ]
  },
  {
   "cell_type": "code",
   "execution_count": 58,
   "metadata": {},
   "outputs": [
    {
     "name": "stdin",
     "output_type": "stream",
     "text": [
      "Future Value: $ 500\n",
      "Nominal Interest Rate (%):  12\n",
      "Number of years:  10\n",
      "Frequency per year: '1 - for Yearly', '2 - for Semi-Annually', '4 - for Quarterly', '12 - for Monthly' 1\n"
     ]
    },
    {
     "name": "stdout",
     "output_type": "stream",
     "text": [
      "Frequency: Annually\n",
      "--------------------\n",
      "The Present Value is: ($): 160.99\n",
      "-----End of Problem-----\n"
     ]
    }
   ],
   "source": [
    "future_value = float(input('Future Value: $'))\n",
    "nominal_interest = float(input('Nominal Interest Rate (%): '))\n",
    "years = int(input('Number of years: '))\n",
    "frequency = int(input(\"Frequency per year: '1 - for Yearly', '2 - for Semi-Annually', '4 - for Quarterly', '12 - for Monthly'\"))\n",
    "\n",
    "def present_value_comp(future_value, nominal_interest, years, frequency):\n",
    "    nom_pct_interest = nominal_interest / 100\n",
    "    periodic_int = nom_pct_interest / frequency\n",
    "    periods = years * frequency # m x n\n",
    "    if frequency == 1:\n",
    "        print('Frequency: Annually')\n",
    "        print('--------------------')\n",
    "        pv_result = future_value / ((1 + periodic_int) ** periods) \n",
    "    elif frequency == 2:\n",
    "        print('Frequency: Semi-Annually')\n",
    "        print('--------------------')\n",
    "        pv_result = future_value / ((1 + periodic_int) ** periods)\n",
    "    elif frequency == 4:\n",
    "        print('Frequency: Quarterly')\n",
    "        print('--------------------')\n",
    "        pv_result = future_value / ((1 + periodic_int) ** periods)\n",
    "    elif frequency == 2:\n",
    "        print('Frequency: Monthly')\n",
    "        print('--------------------')\n",
    "        pv_result = future_value / ((1 + periodic_int) ** periods)\n",
    "    else:\n",
    "        print(\"You can only select: 1 - Annually, 2 - Semi-Annually, 4 - Quarterly, or 12 - Monthly\")\n",
    "        print('Please try again!')\n",
    "    \n",
    "    print('The Present Value is: ($): ', format(pv_result, '.2f'), sep='')\n",
    "    print('-----End of Problem-----')\n",
    "    return\n",
    "present_value_comp(future_value, nominal_interest, years, frequency)    "
   ]
  },
  {
   "cell_type": "code",
   "execution_count": 60,
   "metadata": {},
   "outputs": [
    {
     "name": "stdin",
     "output_type": "stream",
     "text": [
      "Present Value: $ 500\n",
      "Nominal Interest Rate (%):  12\n",
      "Number of years:  10\n",
      "Frequency per year: '1 - for Yearly', '2 - for Semi-Annually', '4 - for Quarterly', '12 - for Monthly' 1\n"
     ]
    },
    {
     "name": "stdout",
     "output_type": "stream",
     "text": [
      "Frequency: Annually\n",
      "--------------------\n",
      "The Future Value is: ($): 1552.92\n",
      "-----End of Problem-----\n"
     ]
    }
   ],
   "source": [
    "present_value = float(input('Present Value: $'))\n",
    "nominal_interest = float(input('Nominal Interest Rate (%): '))\n",
    "years = int(input('Number of years: '))\n",
    "frequency = int(input(\"Frequency per year: '1 - for Yearly', '2 - for Semi-Annually', '4 - for Quarterly', '12 - for Monthly'\"))\n",
    "\n",
    "def future_value_comp(present_value, nominal_interest, years, frequency):\n",
    "    nom_pct_interest = nominal_interest / 100\n",
    "    periodic_int = nom_pct_interest / frequency\n",
    "    periods = years * frequency # m x n\n",
    "    if frequency == 1:\n",
    "        print('Frequency: Annually')\n",
    "        print('--------------------')\n",
    "        fv_result = present_value * ((1 + periodic_int) ** periods) \n",
    "    elif frequency == 2:\n",
    "        print('Frequency: Semi-Annually')\n",
    "        print('--------------------')\n",
    "        fv_result = present_value * ((1 + periodic_int) ** periods)\n",
    "    elif frequency == 4:\n",
    "        print('Frequency: Quarterly')\n",
    "        print('--------------------')\n",
    "        fv_result = present_value * ((1 + periodic_int) ** periods)\n",
    "    elif frequency == 2:\n",
    "        print('Frequency: Monthly')\n",
    "        print('--------------------')\n",
    "        fv_result = present_value * ((1 + periodic_int) ** periods)\n",
    "    else:\n",
    "        print(\"You can only select: 1 - Annually, 2 - Semi-Annually, 4 - Quarterly, or 12 - Monthly\")\n",
    "        print('Please try again!')\n",
    "    \n",
    "    print('The Future Value is: ($): ', format(fv_result, '.2f'), sep='')\n",
    "    print('-----End of Problem-----')\n",
    "    return\n",
    "future_value_comp(present_value, nominal_interest, years, frequency)    "
   ]
  },
  {
   "cell_type": "markdown",
   "metadata": {},
   "source": [
    "### Ordinary Annuity: Solving for Payments\n",
    "##### We need to accumulate $10,000 and have it available 5 years from now. We can earn 6% on our money. Thus, we know that FV 10,000, PV 0, N = 5, and I/YR = 6"
   ]
  },
  {
   "cell_type": "code",
   "execution_count": 67,
   "metadata": {},
   "outputs": [
    {
     "name": "stdin",
     "output_type": "stream",
     "text": [
      "Future Value of Annuity: $ 10000\n",
      "Nominal Interest Rate (%):  6\n",
      "Number of years:  5\n"
     ]
    },
    {
     "name": "stdout",
     "output_type": "stream",
     "text": [
      "----------------------------------------------\n",
      "The periodic payments are ($): 1773.96\n",
      "---------------End of Problem---------------------\n"
     ]
    }
   ],
   "source": [
    "future_value_annuity = float(input('Future Value of Annuity: $'))\n",
    "nominal_interest = float(input('Nominal Interest Rate (%): '))\n",
    "years = int(input('Number of years: '))\n",
    "print('----------------------------------------------')\n",
    "\n",
    "def annuity_payments(future_value_annuity, nominal_interest, years):\n",
    "    nom_pct_interest = nominal_interest / 100\n",
    "    payments = future_value_annuity / ((((1 + nom_pct_interest)**years) - 1) / nom_pct_interest)\n",
    "    print('The periodic payments are ($): ', format(payments, '.2f'), sep='')\n",
    "    print('---------------End of Problem---------------------')\n",
    "    return\n",
    "annuity_payments(future_value_annuity, nominal_interest, years)"
   ]
  },
  {
   "cell_type": "markdown",
   "metadata": {},
   "source": [
    "### Convert Ordinary Annuity to Annuity Due\n",
    "##### Discount the Ordinary Annuity with/by the Interest Rate"
   ]
  },
  {
   "cell_type": "code",
   "execution_count": 68,
   "metadata": {},
   "outputs": [
    {
     "name": "stdin",
     "output_type": "stream",
     "text": [
      "Enter Ordinary Annuity 1773.96\n",
      "Enter Interest Rate (%):  6\n"
     ]
    },
    {
     "name": "stdout",
     "output_type": "stream",
     "text": [
      "-------------------------------\n",
      "Annuity Due: 1673.55\n",
      "------------End of Problem---------------\n"
     ]
    }
   ],
   "source": [
    "ordinary_annuity = float(input('Enter Ordinary Annuity'))\n",
    "interest_rate = float(input('Enter Interest Rate (%): '))\n",
    "print('-------------------------------')\n",
    "\n",
    "def annuity_due(ordinary_annuity, interest_rate):\n",
    "    pct_int = interest_rate / 100\n",
    "    annuity_d = ordinary_annuity / (1 + pct_int)\n",
    "    print('Annuity Due: ', format(annuity_d, '.2f'), sep='')\n",
    "    print('------------End of Problem---------------')\n",
    "annuity_due(ordinary_annuity, interest_rate)    "
   ]
  },
  {
   "cell_type": "markdown",
   "metadata": {},
   "source": [
    "### Number of Periods on Future Value of Ordinary Annuity\n",
    "##### Suppose you decide to make end-of-year deposits, but you can save only 1,200 per year. Again assuming that you would earn 6%, how \n",
    "##### long would it take you to reach your 10,000 goal?"
   ]
  },
  {
   "cell_type": "code",
   "execution_count": 79,
   "metadata": {},
   "outputs": [
    {
     "name": "stdin",
     "output_type": "stream",
     "text": [
      "Enter Future Value of Ordinary Annuity 10000\n",
      "Enter Periodic Payments ($):  1200\n",
      "Enter Interest Rate:  6\n"
     ]
    },
    {
     "name": "stdout",
     "output_type": "stream",
     "text": [
      "----------------------------------\n",
      "Number of years: 6.96\n",
      "-----------End of Record------------------\n"
     ]
    }
   ],
   "source": [
    "#### ongoing \n",
    "import numpy as np\n",
    "import math\n",
    "fv_annuity = float(input('Enter Future Value of Ordinary Annuity'))\n",
    "periodic_payments = float(input('Enter Periodic Payments ($): '))\n",
    "nominal_interest = float(input('Enter Interest Rate: '))\n",
    "print('----------------------------------')\n",
    "\n",
    "def annuity_interest(fv_annuity, periodic_payments, nominal_interest):\n",
    "    pct_interest = nominal_interest / 100\n",
    "    denominator = (1 + pct_interest) \n",
    "    numerator = 1 + ((fv_annuity * pct_interest) / periodic_payments)\n",
    "    num_years = (np.log(numerator)) / (np.log(denominator))\n",
    "    print('Number of years: ', format(num_years, '.2f'), sep='')\n",
    "    print('-----------End of Record------------------')\n",
    "    return\n",
    "annuity_interest(fv_annuity, periodic_payments, nominal_interest)    "
   ]
  },
  {
   "cell_type": "code",
   "execution_count": null,
   "metadata": {},
   "outputs": [],
   "source": []
  }
 ],
 "metadata": {
  "kernelspec": {
   "display_name": "Python 3",
   "language": "python",
   "name": "python3"
  },
  "language_info": {
   "codemirror_mode": {
    "name": "ipython",
    "version": 3
   },
   "file_extension": ".py",
   "mimetype": "text/x-python",
   "name": "python",
   "nbconvert_exporter": "python",
   "pygments_lexer": "ipython3",
   "version": "3.7.7"
  }
 },
 "nbformat": 4,
 "nbformat_minor": 4
}
